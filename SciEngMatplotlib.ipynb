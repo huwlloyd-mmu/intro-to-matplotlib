{
 "cells": [
  {
   "cell_type": "markdown",
   "metadata": {},
   "source": [
    "# Introduction to Python Matplotlib\n",
    "\n",
    "## Science and Engineering Extracurricular Award 2018\n",
    "\n",
    "### Huw Lloyd (Computing, Mathematics and Digital Technology) Huw.Lloyd@mmu.ac.uk\n",
    "\n",
    "Welcome to the __Jupyter Notebook__ for this short intro to matplotlib. Jupyter is a great way to work in Python; you can combine code, formatted text (using Markdown), plots (using Matplotlib), and maths (using LaTeX) in one interactive document. If you want to install Jupyter (or any python tools) the best way is to get [__Anaconda__](https://www.anaconda.com/download/), which is available for Windows, Mac and Linux. Everything we do here will also work when running python interactively (at the command line) or in script mode (editing .py files and running them with python). \n",
    "\n",
    "As well as matplotlib, we will use __numpy__. This is a python library for numerical computing (and other things) that forms the basis of the __scipy__ scientific python stack. It's also at the heart of the latest libraries for __data science__ such as __pandas__ and __seaborn__. \n",
    "\n",
    "We'll be using __Python 3__. If you've used Python 2 before now, the only difference you'll notice here is how you print to the terminal. In python 3, __print__ is a function, so you need to put parentheses \"()\" around whatever you're printing.\n",
    "\n",
    "__Python 2.x__\n",
    "\n",
    "__print \"hello, world\"__\n",
    "\n",
    "__Python 3.x__\n",
    "\n",
    "__print(\"hello, world\")__\n",
    "\n",
    "Try it out: click on the code box below, then hit the __Run__ button on the toolbar.\n"
   ]
  },
  {
   "cell_type": "code",
   "execution_count": null,
   "metadata": {},
   "outputs": [],
   "source": [
    "print(\"hello, world\")"
   ]
  },
  {
   "cell_type": "markdown",
   "metadata": {},
   "source": [
    "### 1. A (very) quick introduction to numpy\n",
    "\n",
    "Before using numpy we have to __import__ the library. It's usual to give the library a short name when doing this to save on typing later on. Most people use 'np'. So, the import statement is \n",
    "\n",
    "__import numpy as np__\n",
    "\n",
    "The fundamental data type in numpy is the __numpy array__. This is basically an array of numbers, which can have any number of dimensions. For example, a 2-dimensional array can represent a matrix (or an image), a 1-dimensional array a vector, or a list of values. There are various ways to create arrays. Run the code below to see one of them in action. "
   ]
  },
  {
   "cell_type": "code",
   "execution_count": null,
   "metadata": {},
   "outputs": [],
   "source": [
    "import numpy as np\n",
    "\n",
    "x = np.linspace(0,10,50)\n",
    "print(x)"
   ]
  },
  {
   "cell_type": "markdown",
   "metadata": {},
   "source": [
    "You should see a list of 50 equally spaced values between 0 and 10 inclusive. __linspace__ makes a 'linear space', an array of equally spaced values.\n",
    "\n",
    "#### Exercise 1\n",
    "__Change the code in the box above so that the values are nicely spaced (i.e, 0, 0.2, 0.4 ... 10.0)__"
   ]
  },
  {
   "cell_type": "markdown",
   "metadata": {},
   "source": [
    "#### 1.1 Using arrays\n",
    "The really neat thing about numpy arrays is we can perform operations on each element in the array without needing to use a loop (there are lots of other neat things about numpy arrays but we don't have time today). Say we wanted another array with all the squares of the values in the array __x__, we can do this as below (notice we didn't redefine __x__ here: when you are running a Jupyter notebook, the python interpreter keeps running in the background, so it will still have our value of __x__ from the previous code block)."
   ]
  },
  {
   "cell_type": "code",
   "execution_count": null,
   "metadata": {},
   "outputs": [],
   "source": [
    "y = x**2\n",
    "print(y)"
   ]
  },
  {
   "cell_type": "markdown",
   "metadata": {},
   "source": [
    "Numpy also includes all the common mathematical functions. So, to get an array of sines, we could use\n",
    "\n",
    "__y = np.sin(x)__\n",
    "\n",
    "#### Exercise 2\n",
    "__In the box below, write some python to fill an array x with 100 values from 0 to 2 * pi (use np.pi for pi) and an array sinx with the sines of these angles (in radians). Print out x and sinx__"
   ]
  },
  {
   "cell_type": "code",
   "execution_count": null,
   "metadata": {},
   "outputs": [],
   "source": [
    "#\n",
    "# enter your code here - produce numpy arrays x and sinx\n",
    "#\n",
    "x = np.linspace(0,2.0*np.pi,100)\n",
    "sinx = np.sin(x)\n",
    "print(x, sinx)"
   ]
  },
  {
   "cell_type": "markdown",
   "metadata": {},
   "source": [
    "### 2. Using Matplotlib\n",
    "Now to use matplotlib to plot the sin function you calculated above. As with numpy, we import the library and give it a short name. The standard way to do this is to use\n",
    "\n",
    "__import matplotlib.pyplot as plt__\n",
    "\n",
    "Now run the (hopefully) self-explanatory code below. __Note: this won't work unless you have your arrays x and sinx already calculated from Exercise 2__"
   ]
  },
  {
   "cell_type": "code",
   "execution_count": null,
   "metadata": {},
   "outputs": [],
   "source": [
    "import matplotlib.pyplot as plt\n",
    "\n",
    "plt.plot(x, sinx)\n",
    "plt.show()"
   ]
  },
  {
   "cell_type": "markdown",
   "metadata": {},
   "source": [
    "#### 2.1 Making it prettier\n",
    "This is a fairly basic plot. There are a few things we can do to make it nicer. Firstly we can label the axes. To do this, use the __plt.xlabel()__ and __plt.ylabel()__ functions. We could add a legend using __plt.legend__. Note that for this to work, we need to give the plot in plt.plot a name using the __label__ argument: this is what the legend prints next to the line"
   ]
  },
  {
   "cell_type": "code",
   "execution_count": null,
   "metadata": {},
   "outputs": [],
   "source": [
    "import matplotlib.pyplot as plt\n",
    "\n",
    "plt.plot(x, sinx, label='sin(x)')\n",
    "plt.xlabel('x')\n",
    "plt.ylabel('sin(x)')\n",
    "plt.legend()\n",
    "plt.show()"
   ]
  },
  {
   "cell_type": "markdown",
   "metadata": {},
   "source": [
    "You can have more than one set of data on a plot. We will try this out by plotting cos(x) on the same plot.\n",
    "\n",
    "#### Exercise 3\n",
    "__Make a plot of sin(x) and cos(x) between 0 and 2 pi. The x axis should be labelled 'x' and the y axis 'f(x)'. Add a legend to show which curve is which (they will automatically be drawn in different colours).__\n",
    "\n",
    "Hint: you need two calls to __plt.plot()__. You should only have one __plt.show()__, at the end of your program."
   ]
  },
  {
   "cell_type": "code",
   "execution_count": null,
   "metadata": {},
   "outputs": [],
   "source": [
    "#\n",
    "# add code here\n",
    "#"
   ]
  },
  {
   "cell_type": "markdown",
   "metadata": {},
   "source": [
    "### 3. Reading from a file\n",
    "Often the data you want to plot is in a text file. Numpy provides some powerful tools for reading data from files directly into numpy arrays. The following code reads two columns of data from a file, skipping the first two lines of header into a __2-dimensional__ numpy array. It then splits this array into two one-dimensional arrays for plotting. Arrays are split up using __array slicing__. This is a very powerful system, which we could spend all afternoon on, but the example here should be all you need for now. Have a look at the data file on your h: drive, and then run the code below."
   ]
  },
  {
   "cell_type": "code",
   "execution_count": null,
   "metadata": {},
   "outputs": [],
   "source": [
    "import numpy as np\n",
    "\n",
    "data = np.loadtxt('data.txt',skiprows=2)\n",
    "print(data)\n",
    "print(data.shape)\n"
   ]
  },
  {
   "cell_type": "markdown",
   "metadata": {},
   "source": [
    "You should see that this produces a __2-dimensional array__ with dimensions 11, 2. The __shape__ property of a numpy array describes the shape of the array in the form __(rows, columns)__. Waht we want to do is split this array into two one-dimensional arrays for plotting. We do this using __array slicing__. Run the code below: "
   ]
  },
  {
   "cell_type": "code",
   "execution_count": null,
   "metadata": {},
   "outputs": [],
   "source": [
    "x = data[:,0]\n",
    "y = data[:,1]\n",
    "print(x)\n",
    "print(y)"
   ]
  },
  {
   "cell_type": "markdown",
   "metadata": {},
   "source": [
    "__[:,0]__ means 'every row for column 0' and __[:,1]__ means 'every row for column 1' which is what we are after. Now we can plot these. Let's make a different sort of plot this time: a bar graph."
   ]
  },
  {
   "cell_type": "code",
   "execution_count": null,
   "metadata": {},
   "outputs": [],
   "source": [
    "import matplotlib.pyplot as plt\n",
    "plt.bar(x,y,width=0.05)\n",
    "plt.show()"
   ]
  },
  {
   "cell_type": "markdown",
   "metadata": {},
   "source": [
    "#### Exercise 4\n",
    "\n",
    "__Look at the data file *bitcoin.txt* (in the same folder as this notebook). This gives some on bitcoin prices over the last five years or so. Using the data, make a plot of bitcoin price against time.__\n",
    "\n",
    "__Hints__\n",
    "\n",
    "* One of the columns contains dashes - this will cause __np.loadtxt__ to fail. Get around this by reading the file twice, once for each column of data you want to plot, selecting the columns using the __usecols__ named argument in __np.loadtxt__. For example, add 'usecols=(0)' to read the first column, 'usecols=(0,1)' to read the first and second, and so on.\n",
    "* The data for the first few years won't show up very well in a linear plot. Try adding the line __plt.yscale('log')__ before your plotting commands: this makes a log-linear plot."
   ]
  },
  {
   "cell_type": "code",
   "execution_count": null,
   "metadata": {},
   "outputs": [],
   "source": [
    "#\n",
    "# type code here...\n",
    "#"
   ]
  },
  {
   "cell_type": "markdown",
   "metadata": {},
   "source": [
    "### 4. Other plot types\n",
    "\n",
    "#### 4.1 Histograms\n",
    "\n",
    "Matplotlib can create a histogram from a set of values. The example below makes a numpy array full of random data, with a normal distribution. The parameters are a mean of 10, standard deviation of 1.0, and 1000 values in the array\n",
    "\n"
   ]
  },
  {
   "cell_type": "code",
   "execution_count": null,
   "metadata": {},
   "outputs": [],
   "source": [
    "mu = 3.0\n",
    "sigma = 1.0\n",
    "randoms = np.random.normal( mu, sigma, 1000 )"
   ]
  },
  {
   "cell_type": "markdown",
   "metadata": {},
   "source": [
    "Making the histogram is easy using the matplotlib __hist__ function. The second parameter is the number of bins. The named argument __density__ controls whether the distribution is normalised so that the area under the histogram is one. "
   ]
  },
  {
   "cell_type": "code",
   "execution_count": null,
   "metadata": {},
   "outputs": [],
   "source": [
    "plt.hist(randoms,50,density=True)\n",
    "plt.show()"
   ]
  },
  {
   "cell_type": "markdown",
   "metadata": {},
   "source": [
    "#### Exercise 5\n",
    "__Modify the histogram plot so that it plots the theoretical distribution on the top of the histogram as a solid line. This is given by:__\n",
    "\n",
    "$$ \\frac{1}{\\sigma\\sqrt{2\\pi}}e^{-(x-\\mu)^2/(2\\sigma^2)} $$\n",
    "\n",
    "__Where $\\sigma$ is the standard deviation, and $\\mu$ is the mean.__\n",
    "\n",
    "__Hints__\n",
    "\n",
    "* Start off with a suitable __x__ array made using __np.linspace__.\n",
    "* Use the numpy functions __np.exp__ to calculate the exponential, and __np.sqrt__ for the square root.\n",
    "* You can use constants in a numpy expression, for example if __x__ is a numpy array, then __2\\*x__ is an array containing double the values in __x__.\n"
   ]
  },
  {
   "cell_type": "code",
   "execution_count": null,
   "metadata": {},
   "outputs": [],
   "source": [
    "#\n",
    "# add code here\n",
    "#"
   ]
  },
  {
   "cell_type": "markdown",
   "metadata": {},
   "source": [
    "#### 4.2 Scatter Plots\n",
    "\n",
    "Scatter plots use the function __plt.scatter__. The markers are circles by default, but can be changed using the __marker__ argument. Some examples are cross (__marker='x'__), triangle (__marker='^'__), square (__marker='s'__), circle(__marker='o'__). See below for an example"
   ]
  },
  {
   "cell_type": "code",
   "execution_count": null,
   "metadata": {
    "scrolled": true
   },
   "outputs": [],
   "source": [
    "import numpy as np\n",
    "import matplotlib.pyplot as plt\n",
    "\n",
    "x = np.random.random(100)\n",
    "y = np.random.normal(0.5,0.5,100)\n",
    "\n",
    "plt.scatter(x,y,marker='o')\n",
    "plt.show()"
   ]
  },
  {
   "cell_type": "markdown",
   "metadata": {},
   "source": [
    "### 5. Customisation\n",
    "\n",
    "#### 5.1 Style Sheets\n",
    "\n",
    "Matplotlib is highly customisable. An easy way to do this is to use __style sheets__, which set all the parameters for you. You can get a list of the available style sheets using:"
   ]
  },
  {
   "cell_type": "code",
   "execution_count": null,
   "metadata": {},
   "outputs": [],
   "source": [
    "print(plt.style.available)"
   ]
  },
  {
   "cell_type": "markdown",
   "metadata": {},
   "source": [
    "You can use a style sheet with the __plt.style.use()__. For example, the following code plots a histogram using the 'ggplot' style (a style based on a data plotting package in the 'R' statistical language)."
   ]
  },
  {
   "cell_type": "code",
   "execution_count": null,
   "metadata": {},
   "outputs": [],
   "source": [
    "x = np.random.poisson(3.0,1000)\n",
    "\n",
    "plt.style.use('ggplot')\n",
    "plt.hist(x,20)\n",
    "plt.show()"
   ]
  },
  {
   "cell_type": "markdown",
   "metadata": {},
   "source": [
    "#### Exercise 6: \n",
    "\n",
    "__Experiment with the styles available, modifying some of the plots you've already made. Find your favourite!__\n",
    "\n",
    "Note as we are running a notebook, which keeps the python interpreter running, this syle will apply to all subsequent plots. Go back to the original style using style 'classic'"
   ]
  },
  {
   "cell_type": "markdown",
   "metadata": {},
   "source": [
    "### 6. Saving to an Image File\n",
    "\n",
    "Once you have your painstakingly customised and beautiful data plot, you will want to output it at high resolution to put into a report. This is done using the __plt.savefig()__ function. You can also use the __plt.figure()__ function to set the size and shape of your plot. Here's an example. __Note that the savefig command goes *before* the show command. Otherwise, you will get an empty file - show clears the canvas and starts a new plot.__ Run the example and look in your working directory for the file to check it's ok."
   ]
  },
  {
   "cell_type": "code",
   "execution_count": null,
   "metadata": {},
   "outputs": [],
   "source": [
    "plt.figure(figsize=(8,6)) # make the plot 8 inches by 6 inches\n",
    "\n",
    "x = np.random.poisson(3.0,1000)\n",
    "\n",
    "plt.style.use('ggplot')\n",
    "plt.hist(x,20)\n",
    "\n",
    "plt.savefig('histogram.png',dpi=300) # save as a PNG file, at 300dpi (so, 2400x1800 pixels)plt.show()\n",
    "plt.show()\n"
   ]
  },
  {
   "cell_type": "markdown",
   "metadata": {},
   "source": [
    "There is a good guide to matplotlib style sheets [__here__](https://jakevdp.github.io/PythonDataScienceHandbook/04.11-settings-and-stylesheets.html) which is an extract from the O'Reilly *Python Data Science Handbook* by Jake VanerPlas."
   ]
  },
  {
   "cell_type": "markdown",
   "metadata": {},
   "source": [
    "### 7. Image and Contour Plots\n",
    "\n",
    "#### 7.1 Contours\n",
    "\n",
    "To create an image or contour plot, we need some 2D data. To create this, we will use the numpy __meshgrid__ function. This returns *two* two-dimensional arrays - one with the x coordinate at each grid point in a 2D mesh, the other with the y coordinates.\n",
    "\n",
    "The example below uses meshgrid to do this, then uses the x and y arrays to make a z array, containing the values of the function $z(x, y) = 1 - (x^2 + y^2)$, and uses the __conotur__ function to plot contours."
   ]
  },
  {
   "cell_type": "code",
   "execution_count": null,
   "metadata": {
    "scrolled": true
   },
   "outputs": [],
   "source": [
    "import numpy as np\n",
    "import matplotlib.pyplot as plt\n",
    "\n",
    "\n",
    "x, y = np.meshgrid( np.linspace(-1,1,100), np.linspace(-1,1,100))\n",
    "\n",
    "z = (1.0 - x*x - y*y)\n",
    "plt.contour(x,y,z)\n",
    "plt.show()"
   ]
  },
  {
   "cell_type": "markdown",
   "metadata": {},
   "source": [
    "Note that the contours are coloured by default. This is nice, but you might not want that. To set the colour to a fixed value use, e.g., __colors='black'__ as an optional argument to the contour function.\n",
    "\n",
    "#### Exercise 7: \n",
    "\n",
    "__Notice that the default plot is a rectangle, whereas the data for the plot above is square. Make a square contour plot, with black contours. Hint: use the figure command to shape the plot.\n",
    "\n",
    "#### 7.2 Images\n",
    "\n",
    "Finally, here's some very funky code which calculates the Mandelbrot set. It uses a numpy trick called 'boolean indexing'. We'll just use it to make an image, so you don't need to understand it. It takes a while to run.\n",
    "\n"
   ]
  },
  {
   "cell_type": "code",
   "execution_count": null,
   "metadata": {},
   "outputs": [],
   "source": [
    "def mandelbrot( c ):\n",
    "    z = c\n",
    "    maxit = 255\n",
    "    divtime = maxit + np.zeros(z.shape, dtype=int)\n",
    "    i = 0\n",
    "    some_diverging = True\n",
    "    while i < maxit and some_diverging:\n",
    "        z = z**2 + c\n",
    "        diverge = z*np.conj(z) > 2**2         # who is diverging\n",
    "        div_now = diverge & (divtime==maxit)  # who is diverging now\n",
    "        divtime[div_now] = i                  # note when\n",
    "        some_diverging = div_now.size > 0     # are we done?\n",
    "        z[diverge] = 2                        # avoid diverging too much\n",
    "        i += 1\n",
    "    return divtime    \n",
    "\n",
    "h = 512; w = 512 #width and height of image\n",
    "x, y = np.meshgrid( np.linspace(-2.0,0.8,w), np.linspace(-1.4,1.4,h) )\n",
    "complex_plane = x+y*1j\n",
    "    \n",
    "mandelbrot_set = mandelbrot(complex_plane)\n",
    "\n",
    "# draw image\n",
    "plt.imshow(mandelbrot_set)\n",
    "    "
   ]
  },
  {
   "cell_type": "markdown",
   "metadata": {},
   "source": [
    "#### Exercise 8.\n",
    "\n",
    "__Experiment with this. Try different colormaps (use cmap='colormapname', you can find a list [here](https://matplotlib.org/users/colormaps.html)). Try to find interesting areas of the set (change the values in the meshgrid call). Try to bring out the detail using a logarithmic scale (something like mandelbrot_set = np.log(mandelbrot_set + 0.01) should do it).__"
   ]
  },
  {
   "cell_type": "markdown",
   "metadata": {},
   "source": [
    "### 8. Finally...\n",
    "\n",
    "__xkcd__ mode is a way to make plots that look hand-drawn, in the style of the __xkcd__ web comic. Just add __plt.xkcd()__ before your plotting commands! You will be stuck with this style unless you restart the python interpreter (go to the Kernel menu, and Restart Kernel)\n"
   ]
  },
  {
   "cell_type": "code",
   "execution_count": null,
   "metadata": {},
   "outputs": [],
   "source": [
    "import matplotlib.pyplot as plt\n",
    "import numpy as np\n",
    "plt.xkcd()\n",
    "plt.xticks([])\n",
    "plt.yticks([])\n",
    "x = np.linspace(0,1,100)\n",
    "y = 1 - x**3\n",
    "plt.plot(x,y)\n",
    "plt.xlabel('MATPLOTLIB CUSTOMISATION\\n FEATURES I KNOW ABOUT')\n",
    "plt.ylabel('MY PRODUCTIVITY')\n",
    "plt.show();"
   ]
  },
  {
   "cell_type": "markdown",
   "metadata": {},
   "source": [
    "### Notes\n",
    "\n",
    "* The __xticks__ and __yticks__ commands are passing empty lists in to be used for the tick mark positions. So, these commands switch off the ticks on the axes.\n",
    "* The '\\n' in the __xlabel__ string is a newline - this breaks the string over two lines."
   ]
  },
  {
   "cell_type": "markdown",
   "metadata": {},
   "source": [
    "#### That's it - I hope you had fun and can see some uses for matplotlib in your science and engineering life."
   ]
  },
  {
   "cell_type": "code",
   "execution_count": null,
   "metadata": {},
   "outputs": [],
   "source": []
  }
 ],
 "metadata": {
  "kernelspec": {
   "display_name": "Python 3",
   "language": "python",
   "name": "python3"
  },
  "language_info": {
   "codemirror_mode": {
    "name": "ipython",
    "version": 3
   },
   "file_extension": ".py",
   "mimetype": "text/x-python",
   "name": "python",
   "nbconvert_exporter": "python",
   "pygments_lexer": "ipython3",
   "version": "3.6.4"
  }
 },
 "nbformat": 4,
 "nbformat_minor": 2
}
