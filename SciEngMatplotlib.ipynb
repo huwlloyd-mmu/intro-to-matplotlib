{
 "cells": [
  {
   "cell_type": "markdown",
   "metadata": {},
   "source": [
    "# Introduction to Python Matplotlib\n",
    "\n",
    "## Science and Engineering Extracurricular Award 2018\n",
    "\n",
    "### Huw Lloyd (Computing, Mathematics and Digital Technology) Huw.Lloyd@mmu.ac.uk\n",
    "\n",
    "Welcome to the __Jupyter Notebook__ for this short intro to matplotlib. Jupyter is a great way to work in Python; you can combine code, formatted text (using Markdown), plots (using Matplotlib), and maths (using LaTeX) in one interactive document. If you want to install Jupyter (or any python tools) the best way is to get [__Anaconda__](https://www.anaconda.com/download/), which is available for Windows, Mac and Linux. Everything we do here will also work when running python interactively (at the command line) or in script mode (editing .py files and running them with python). \n",
    "\n",
    "As well as matplotlib, we will use __numpy__. This is a python library for numerical computing (and other things) that forms the basis of the __scipy__ scientific python stack. It's also at the heart of the latest libraries for __data science__ such as __pandas__ and __seaborn__. \n",
    "\n",
    "We'll be using __Python 3__. If you've used Python 2 before now, the only difference you'll notice here is how you print to the terminal. In python 3, __print__ is a function, so you need to put parentheses \"()\" around whatever you're printing.\n",
    "\n",
    "__Python 2.x__\n",
    "\n",
    "__print \"hello, world\"__\n",
    "\n",
    "__Python 3.x__\n",
    "\n",
    "__print(\"hello, world\")__\n",
    "\n",
    "Try it out: click on the code box below, then hit the __Run__ button on the toolbar.\n"
   ]
  },
  {
   "cell_type": "code",
   "execution_count": null,
   "metadata": {},
   "outputs": [],
   "source": [
    "print(\"hello, world\")"
   ]
  },
  {
   "cell_type": "markdown",
   "metadata": {},
   "source": [
    "### 1. A (very) quick introduction to numpy\n",
    "\n",
    "Before using numpy we have to __import__ the library. It's usual to give the library a short name when doing this to save on typing later on. Most people use 'np'. So, the import statement is \n",
    "\n",
    "__import numpy as np__\n",
    "\n",
    "The fundamental data type in numpy is the __numpy array__. This is basically an array of numbers, which can have any number of dimensions. For example, a 2-dimensional array can represent a matrix (or an image), a 1-dimensional array a vector, or a list of values. There are various ways to create arrays. Run the code below to see one of them in action. "
   ]
  },
  {
   "cell_type": "code",
   "execution_count": null,
   "metadata": {},
   "outputs": [],
   "source": [
    "import numpy as np\n",
    "\n",
    "x = np.linspace(0,10,50)\n",
    "print(x)"
   ]
  },
  {
   "cell_type": "markdown",
   "metadata": {},
   "source": [
    "You should see a list of 50 equally spaced values between 0 and 10 inclusive. __linspace__ makes a 'linear space', an array of equally spaced values.\n",
    "\n",
    "#### Exercise 1\n",
    "__Change the code in the box above so that the values are nicely spaced (i.e, 0, 0.2, 0.4 ... 10.0)__"
   ]
  },
  {
   "cell_type": "markdown",
   "metadata": {},
   "source": [
    "#### 1.1 Using arrays\n",
    "The really neat thing about numpy arrays is we can perform operations on each element in the array without needing to use a loop (there are lots of other neat things about numpy arrays but we don't have time today). Say we wanted another array with all the squares of the values in the array __x__, we can do this as below (notice we didn't redefine __x__ here: when you are running a Jupyter notebook, the python interpreter keeps running in the background, so it will still have our value of __x__ from the previous code block)."
   ]
  },
  {
   "cell_type": "code",
   "execution_count": null,
   "metadata": {},
   "outputs": [],
   "source": [
    "y = x**2\n",
    "print(y)"
   ]
  },
  {
   "cell_type": "markdown",
   "metadata": {},
   "source": [
    "numpy also includes all the common mathematical functions. So, to get an array of sines, we could use\n",
    "\n",
    "__y = np.sin(x)__\n",
    "\n",
    "#### Exercise 2\n",
    "__In the box below, write some python to fill an array x with 100 values from 0 to 2 * pi (use np.pi for pi) and an array sinx with the sines of these angles (in radians). Print out x and sinx__"
   ]
  },
  {
   "cell_type": "code",
   "execution_count": null,
   "metadata": {},
   "outputs": [],
   "source": [
    "#\n",
    "# enter your code here - produce numpy arrays x and sinx\n",
    "#"
   ]
  },
  {
   "cell_type": "markdown",
   "metadata": {},
   "source": [
    "### 2. Using Matplotlib\n",
    "Now to use matplotlib to plot the sin function you calculated above. As with numpy, we import the library and give it a short name. The standard way to do this is to use\n",
    "\n",
    "__import matplotlib.pyplot as plt__\n",
    "\n",
    "Now run the (hopefully) self-explanatory code below. __Note: this won't work unless you have your arrays x and sinx already calculated from Exercise 2__"
   ]
  },
  {
   "cell_type": "code",
   "execution_count": null,
   "metadata": {},
   "outputs": [],
   "source": [
    "import matplotlib.pyplot as plt\n",
    "\n",
    "plt.plot(x, sinx)\n",
    "plt.show()"
   ]
  },
  {
   "cell_type": "markdown",
   "metadata": {},
   "source": [
    "#### 2.1 Making it prettier\n",
    "This is a fairly basic plot. There are a few things we can do to make it nicer. Firstly we can label the axes. To do this, use the __plt.xlabel()__ and __plt.ylabel()__ functions. We could add a legend using __plt.legend__. Note that for this to work, we need to give the plot in plt.plot a name using the __label__ argument: this is what the legend prints next to the line"
   ]
  },
  {
   "cell_type": "code",
   "execution_count": null,
   "metadata": {},
   "outputs": [],
   "source": [
    "import matplotlib.pyplot as plt\n",
    "\n",
    "plt.plot(x, sinx, label='sin(x)')\n",
    "plt.xlabel('x')\n",
    "plt.ylabel('sin(x)')\n",
    "plt.legend()\n",
    "plt.show()"
   ]
  },
  {
   "cell_type": "markdown",
   "metadata": {},
   "source": [
    "You can have more than one set of data on a plot. We will try this out by plotting cos(x) on the same plot.\n",
    "\n",
    "#### Exercise 3\n",
    "__Make a plot of sin(x) and cos(x) between 0 and 2 pi. The x axis should be labelled 'x' and the y axis 'f(x)'. Add a legend to show which curve is which (they will automatically be drawn in different colours).__\n",
    "\n",
    "Hint: you need two calls to plt.plot(). You should only have one plt.show(), at the end of your program."
   ]
  },
  {
   "cell_type": "code",
   "execution_count": null,
   "metadata": {},
   "outputs": [],
   "source": []
  },
  {
   "cell_type": "markdown",
   "metadata": {},
   "source": [
    "### 3. Reading from a file\n",
    "Often the data you want to plot is in a text file. Numpy provides some powerful tools for reading data from files directly into numpy arrays. The following code reads two columns of data from a file, skipping the first two lines of header into a __2-dimensional__ numpy array. It then splits this array into two one-dimensional arrays for plotting. Arrays are split up using __array slicing__. This is a very powerful system, which we could spend all afternoon on, but the example here should be all you need for now."
   ]
  },
  {
   "cell_type": "code",
   "execution_count": null,
   "metadata": {},
   "outputs": [],
   "source": []
  }
 ],
 "metadata": {
  "kernelspec": {
   "display_name": "Python 3",
   "language": "python",
   "name": "python3"
  },
  "language_info": {
   "codemirror_mode": {
    "name": "ipython",
    "version": 3
   },
   "file_extension": ".py",
   "mimetype": "text/x-python",
   "name": "python",
   "nbconvert_exporter": "python",
   "pygments_lexer": "ipython3",
   "version": "3.6.4"
  }
 },
 "nbformat": 4,
 "nbformat_minor": 2
}
